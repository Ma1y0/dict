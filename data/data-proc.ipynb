{
 "cells": [
  {
   "cell_type": "code",
   "execution_count": 2,
   "metadata": {},
   "outputs": [
    {
     "data": {
      "text/html": [
       "<div>\n",
       "<style scoped>\n",
       "    .dataframe tbody tr th:only-of-type {\n",
       "        vertical-align: middle;\n",
       "    }\n",
       "\n",
       "    .dataframe tbody tr th {\n",
       "        vertical-align: top;\n",
       "    }\n",
       "\n",
       "    .dataframe thead th {\n",
       "        text-align: right;\n",
       "    }\n",
       "</style>\n",
       "<table border=\"1\" class=\"dataframe\">\n",
       "  <thead>\n",
       "    <tr style=\"text-align: right;\">\n",
       "      <th></th>\n",
       "      <th>word</th>\n",
       "      <th>level</th>\n",
       "      <th>pos</th>\n",
       "      <th>definition_url</th>\n",
       "      <th>voice_url</th>\n",
       "    </tr>\n",
       "  </thead>\n",
       "  <tbody>\n",
       "    <tr>\n",
       "      <th>0</th>\n",
       "      <td>a</td>\n",
       "      <td>a1</td>\n",
       "      <td>indefinite article</td>\n",
       "      <td>https://www.oxfordlearnersdictionaries.com/def...</td>\n",
       "      <td>https://www.oxfordlearnersdictionaries.com/med...</td>\n",
       "    </tr>\n",
       "    <tr>\n",
       "      <th>1</th>\n",
       "      <td>abandon</td>\n",
       "      <td>b2</td>\n",
       "      <td>verb</td>\n",
       "      <td>https://www.oxfordlearnersdictionaries.com/def...</td>\n",
       "      <td>https://www.oxfordlearnersdictionaries.com/med...</td>\n",
       "    </tr>\n",
       "    <tr>\n",
       "      <th>2</th>\n",
       "      <td>ability</td>\n",
       "      <td>a2</td>\n",
       "      <td>noun</td>\n",
       "      <td>https://www.oxfordlearnersdictionaries.com/def...</td>\n",
       "      <td>https://www.oxfordlearnersdictionaries.com/med...</td>\n",
       "    </tr>\n",
       "    <tr>\n",
       "      <th>3</th>\n",
       "      <td>able</td>\n",
       "      <td>a2</td>\n",
       "      <td>adjective</td>\n",
       "      <td>https://www.oxfordlearnersdictionaries.com/def...</td>\n",
       "      <td>https://www.oxfordlearnersdictionaries.com/med...</td>\n",
       "    </tr>\n",
       "    <tr>\n",
       "      <th>4</th>\n",
       "      <td>abolish</td>\n",
       "      <td>c1</td>\n",
       "      <td>verb</td>\n",
       "      <td>https://www.oxfordlearnersdictionaries.com/def...</td>\n",
       "      <td>https://www.oxfordlearnersdictionaries.com/med...</td>\n",
       "    </tr>\n",
       "  </tbody>\n",
       "</table>\n",
       "</div>"
      ],
      "text/plain": [
       "      word level                 pos  \\\n",
       "0        a    a1  indefinite article   \n",
       "1  abandon    b2                verb   \n",
       "2  ability    a2                noun   \n",
       "3     able    a2           adjective   \n",
       "4  abolish    c1                verb   \n",
       "\n",
       "                                      definition_url  \\\n",
       "0  https://www.oxfordlearnersdictionaries.com/def...   \n",
       "1  https://www.oxfordlearnersdictionaries.com/def...   \n",
       "2  https://www.oxfordlearnersdictionaries.com/def...   \n",
       "3  https://www.oxfordlearnersdictionaries.com/def...   \n",
       "4  https://www.oxfordlearnersdictionaries.com/def...   \n",
       "\n",
       "                                           voice_url  \n",
       "0  https://www.oxfordlearnersdictionaries.com/med...  \n",
       "1  https://www.oxfordlearnersdictionaries.com/med...  \n",
       "2  https://www.oxfordlearnersdictionaries.com/med...  \n",
       "3  https://www.oxfordlearnersdictionaries.com/med...  \n",
       "4  https://www.oxfordlearnersdictionaries.com/med...  "
      ]
     },
     "execution_count": 2,
     "metadata": {},
     "output_type": "execute_result"
    }
   ],
   "source": [
    "import pandas as pd\n",
    "import urllib3\n",
    "import definition\n",
    "\n",
    "df = pd.read_csv(\"oxford-5k.csv\")\n",
    "df.head()"
   ]
  },
  {
   "cell_type": "code",
   "execution_count": 2,
   "metadata": {},
   "outputs": [
    {
     "data": {
      "text/html": [
       "<div>\n",
       "<style scoped>\n",
       "    .dataframe tbody tr th:only-of-type {\n",
       "        vertical-align: middle;\n",
       "    }\n",
       "\n",
       "    .dataframe tbody tr th {\n",
       "        vertical-align: top;\n",
       "    }\n",
       "\n",
       "    .dataframe thead th {\n",
       "        text-align: right;\n",
       "    }\n",
       "</style>\n",
       "<table border=\"1\" class=\"dataframe\">\n",
       "  <thead>\n",
       "    <tr style=\"text-align: right;\">\n",
       "      <th></th>\n",
       "      <th>word</th>\n",
       "      <th>level</th>\n",
       "      <th>pos</th>\n",
       "      <th>definition_url</th>\n",
       "      <th>voice_url</th>\n",
       "    </tr>\n",
       "  </thead>\n",
       "  <tbody>\n",
       "    <tr>\n",
       "      <th>3403</th>\n",
       "      <td>mouse</td>\n",
       "      <td>a1</td>\n",
       "      <td>noun</td>\n",
       "      <td>https://www.oxfordlearnersdictionaries.com/def...</td>\n",
       "      <td>https://www.oxfordlearnersdictionaries.com/med...</td>\n",
       "    </tr>\n",
       "  </tbody>\n",
       "</table>\n",
       "</div>"
      ],
      "text/plain": [
       "       word level   pos                                     definition_url  \\\n",
       "3403  mouse    a1  noun  https://www.oxfordlearnersdictionaries.com/def...   \n",
       "\n",
       "                                              voice_url  \n",
       "3403  https://www.oxfordlearnersdictionaries.com/med...  "
      ]
     },
     "execution_count": 2,
     "metadata": {},
     "output_type": "execute_result"
    }
   ],
   "source": [
    "df[df[\"word\"] == \"mouse\"]"
   ]
  },
  {
   "cell_type": "code",
   "execution_count": 3,
   "metadata": {},
   "outputs": [
    {
     "data": {
      "text/plain": [
       "18"
      ]
     },
     "execution_count": 3,
     "metadata": {},
     "output_type": "execute_result"
    }
   ],
   "source": [
    "df[\"pos\"].apply(lambda x: len(x)).max()"
   ]
  },
  {
   "cell_type": "code",
   "execution_count": 32,
   "metadata": {},
   "outputs": [],
   "source": [
    "import json\n",
    "http = urllib3.PoolManager()\n",
    "\n",
    "r = http.request(\"GET\", \"https://api.dictionaryapi.dev/api/v2/entries/en/horse\")\n",
    "# r.data.decode(\"utf-8\")\n",
    "json_data = json.loads(r.data.decode(\"utf-8\"))"
   ]
  },
  {
   "cell_type": "code",
   "execution_count": 35,
   "metadata": {},
   "outputs": [],
   "source": [
    "a = json_data[1][\"meanings\"]"
   ]
  },
  {
   "cell_type": "code",
   "execution_count": 44,
   "metadata": {},
   "outputs": [
    {
     "data": {
      "text/plain": [
       "[{'definition': 'To frolic, to act mischievously. (Usually followed by \"around\".)',\n",
       "  'synonyms': [],\n",
       "  'antonyms': []},\n",
       " {'definition': 'To provide with a horse; supply horses for.',\n",
       "  'synonyms': [],\n",
       "  'antonyms': []},\n",
       " {'definition': 'To get on horseback.', 'synonyms': [], 'antonyms': []},\n",
       " {'definition': 'To sit astride of; to bestride.',\n",
       "  'synonyms': [],\n",
       "  'antonyms': []},\n",
       " {'definition': '(of a male horse) To copulate with (a mare).',\n",
       "  'synonyms': [],\n",
       "  'antonyms': []},\n",
       " {'definition': 'To take or carry on the back.',\n",
       "  'synonyms': [],\n",
       "  'antonyms': []},\n",
       " {'definition': 'To place (someone) on the back of another person, or on a wooden horse, etc., to be flogged; (hence) to flog.',\n",
       "  'synonyms': [],\n",
       "  'antonyms': []},\n",
       " {'definition': 'To urge at work tyrannically.',\n",
       "  'synonyms': [],\n",
       "  'antonyms': []},\n",
       " {'definition': 'To charge for work before it is finished.',\n",
       "  'synonyms': [],\n",
       "  'antonyms': []}]"
      ]
     },
     "execution_count": 44,
     "metadata": {},
     "output_type": "execute_result"
    }
   ],
   "source": [
    "a[0][\"definitions\"]"
   ]
  },
  {
   "cell_type": "code",
   "execution_count": 3,
   "metadata": {},
   "outputs": [
    {
     "data": {
      "text/plain": [
       "{'title': 'No Definitions Found',\n",
       " 'message': \"Sorry pal, we couldn't find definitions for the word you were looking for.\",\n",
       " 'resolution': 'You can try the search again at later time or head to the web instead.'}"
      ]
     },
     "execution_count": 3,
     "metadata": {},
     "output_type": "execute_result"
    }
   ],
   "source": []
  }
 ],
 "metadata": {
  "kernelspec": {
   "display_name": ".venv",
   "language": "python",
   "name": "python3"
  },
  "language_info": {
   "codemirror_mode": {
    "name": "ipython",
    "version": 3
   },
   "file_extension": ".py",
   "mimetype": "text/x-python",
   "name": "python",
   "nbconvert_exporter": "python",
   "pygments_lexer": "ipython3",
   "version": "3.11.8"
  }
 },
 "nbformat": 4,
 "nbformat_minor": 2
}
